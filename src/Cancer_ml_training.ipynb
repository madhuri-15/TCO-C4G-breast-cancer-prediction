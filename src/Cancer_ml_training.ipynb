{
 "cells": [
  {
   "cell_type": "markdown",
   "id": "1dd0152c",
   "metadata": {},
   "source": [
    "Model Evaluation\n",
    "---\n"
   ]
  },
  {
   "cell_type": "code",
   "execution_count": 1,
   "id": "ee103184",
   "metadata": {
    "ExecuteTime": {
     "end_time": "2022-11-01T03:33:15.366454Z",
     "start_time": "2022-11-01T03:33:12.345443Z"
    }
   },
   "outputs": [],
   "source": [
    "# importing libraries\n",
    "import numpy as np \n",
    "import pandas as pd\n",
    "\n",
    "from sklearn.model_selection import train_test_split\n",
    "from sklearn.feature_extraction import DictVectorizer\n",
    "from sklearn import metrics\n",
    "\n",
    "from sklearn.model_selection import cross_val_score\n",
    "from sklearn.model_selection import StratifiedKFold\n",
    "\n",
    "# import classifier algorithms\n",
    "from sklearn.linear_model import LogisticRegression\n",
    "from sklearn.tree import DecisionTreeClassifier, ExtraTreeClassifier\n",
    "from sklearn.ensemble import GradientBoostingClassifier, RandomForestClassifier\n",
    "from sklearn.neighbors import KNeighborsClassifier\n",
    "from sklearn.svm import SVC"
   ]
  },
  {
   "cell_type": "code",
   "execution_count": 2,
   "id": "da49477c",
   "metadata": {
    "ExecuteTime": {
     "end_time": "2022-11-01T03:33:16.373913Z",
     "start_time": "2022-11-01T03:33:15.370470Z"
    }
   },
   "outputs": [
    {
     "data": {
      "text/html": [
       "<div>\n",
       "<style scoped>\n",
       "    .dataframe tbody tr th:only-of-type {\n",
       "        vertical-align: middle;\n",
       "    }\n",
       "\n",
       "    .dataframe tbody tr th {\n",
       "        vertical-align: top;\n",
       "    }\n",
       "\n",
       "    .dataframe thead th {\n",
       "        text-align: right;\n",
       "    }\n",
       "</style>\n",
       "<table border=\"1\" class=\"dataframe\">\n",
       "  <thead>\n",
       "    <tr style=\"text-align: right;\">\n",
       "      <th></th>\n",
       "      <th>id</th>\n",
       "      <th>menopaus</th>\n",
       "      <th>agegrp</th>\n",
       "      <th>density</th>\n",
       "      <th>race</th>\n",
       "      <th>hispanic</th>\n",
       "      <th>bmi</th>\n",
       "      <th>agefirst</th>\n",
       "      <th>nrelbc</th>\n",
       "      <th>brstproc</th>\n",
       "      <th>lastmamm</th>\n",
       "      <th>surgmeno</th>\n",
       "      <th>hrt</th>\n",
       "      <th>invasive</th>\n",
       "      <th>cancer</th>\n",
       "      <th>count</th>\n",
       "    </tr>\n",
       "  </thead>\n",
       "  <tbody>\n",
       "    <tr>\n",
       "      <th>0</th>\n",
       "      <td>RE-TRAIN-0000001</td>\n",
       "      <td>premenopausal</td>\n",
       "      <td>35-39</td>\n",
       "      <td>almost entirely fat</td>\n",
       "      <td>white</td>\n",
       "      <td>no</td>\n",
       "      <td>10-24.99</td>\n",
       "      <td>age &lt;30</td>\n",
       "      <td>zero</td>\n",
       "      <td>no</td>\n",
       "      <td>negative</td>\n",
       "      <td>natural</td>\n",
       "      <td>no</td>\n",
       "      <td>no</td>\n",
       "      <td>no</td>\n",
       "      <td>2</td>\n",
       "    </tr>\n",
       "    <tr>\n",
       "      <th>1</th>\n",
       "      <td>RE-TRAIN-0000002</td>\n",
       "      <td>premenopausal</td>\n",
       "      <td>35-39</td>\n",
       "      <td>almost entirely fat</td>\n",
       "      <td>white</td>\n",
       "      <td>no</td>\n",
       "      <td>10-24.99</td>\n",
       "      <td>age &lt;30</td>\n",
       "      <td>zero</td>\n",
       "      <td>no</td>\n",
       "      <td>negative</td>\n",
       "      <td>natural</td>\n",
       "      <td>no</td>\n",
       "      <td>no</td>\n",
       "      <td>no</td>\n",
       "      <td>4</td>\n",
       "    </tr>\n",
       "    <tr>\n",
       "      <th>2</th>\n",
       "      <td>RE-TRAIN-0000003</td>\n",
       "      <td>premenopausal</td>\n",
       "      <td>35-39</td>\n",
       "      <td>almost entirely fat</td>\n",
       "      <td>white</td>\n",
       "      <td>no</td>\n",
       "      <td>10-24.99</td>\n",
       "      <td>age &lt;30</td>\n",
       "      <td>one</td>\n",
       "      <td>no</td>\n",
       "      <td>negative</td>\n",
       "      <td>natural</td>\n",
       "      <td>no</td>\n",
       "      <td>no</td>\n",
       "      <td>no</td>\n",
       "      <td>1</td>\n",
       "    </tr>\n",
       "    <tr>\n",
       "      <th>3</th>\n",
       "      <td>RE-TRAIN-0000004</td>\n",
       "      <td>premenopausal</td>\n",
       "      <td>35-39</td>\n",
       "      <td>almost entirely fat</td>\n",
       "      <td>white</td>\n",
       "      <td>no</td>\n",
       "      <td>10-24.99</td>\n",
       "      <td>age &lt;30</td>\n",
       "      <td>one</td>\n",
       "      <td>no</td>\n",
       "      <td>negative</td>\n",
       "      <td>natural</td>\n",
       "      <td>no</td>\n",
       "      <td>no</td>\n",
       "      <td>no</td>\n",
       "      <td>1</td>\n",
       "    </tr>\n",
       "    <tr>\n",
       "      <th>4</th>\n",
       "      <td>RE-TRAIN-0000005</td>\n",
       "      <td>premenopausal</td>\n",
       "      <td>35-39</td>\n",
       "      <td>almost entirely fat</td>\n",
       "      <td>white</td>\n",
       "      <td>no</td>\n",
       "      <td>10-24.99</td>\n",
       "      <td>age 30 or greater</td>\n",
       "      <td>zero</td>\n",
       "      <td>no</td>\n",
       "      <td>negative</td>\n",
       "      <td>natural</td>\n",
       "      <td>no</td>\n",
       "      <td>no</td>\n",
       "      <td>no</td>\n",
       "      <td>2</td>\n",
       "    </tr>\n",
       "  </tbody>\n",
       "</table>\n",
       "</div>"
      ],
      "text/plain": [
       "                 id       menopaus agegrp              density   race  \\\n",
       "0  RE-TRAIN-0000001  premenopausal  35-39  almost entirely fat  white   \n",
       "1  RE-TRAIN-0000002  premenopausal  35-39  almost entirely fat  white   \n",
       "2  RE-TRAIN-0000003  premenopausal  35-39  almost entirely fat  white   \n",
       "3  RE-TRAIN-0000004  premenopausal  35-39  almost entirely fat  white   \n",
       "4  RE-TRAIN-0000005  premenopausal  35-39  almost entirely fat  white   \n",
       "\n",
       "  hispanic       bmi           agefirst nrelbc brstproc  lastmamm surgmeno  \\\n",
       "0       no  10-24.99            age <30   zero       no  negative  natural   \n",
       "1       no  10-24.99            age <30   zero       no  negative  natural   \n",
       "2       no  10-24.99            age <30    one       no  negative  natural   \n",
       "3       no  10-24.99            age <30    one       no  negative  natural   \n",
       "4       no  10-24.99  age 30 or greater   zero       no  negative  natural   \n",
       "\n",
       "  hrt invasive cancer  count  \n",
       "0  no       no     no      2  \n",
       "1  no       no     no      4  \n",
       "2  no       no     no      1  \n",
       "3  no       no     no      1  \n",
       "4  no       no     no      2  "
      ]
     },
     "execution_count": 2,
     "metadata": {},
     "output_type": "execute_result"
    }
   ],
   "source": [
    "# read the data into pandas dataframe\n",
    "train_df = pd.read_csv(\"../data/train.csv\")\n",
    "train_df.head()"
   ]
  },
  {
   "cell_type": "code",
   "execution_count": 3,
   "id": "95033381",
   "metadata": {
    "ExecuteTime": {
     "end_time": "2022-11-01T03:33:17.142425Z",
     "start_time": "2022-11-01T03:33:16.380893Z"
    }
   },
   "outputs": [],
   "source": [
    "# split the training data into training, validation and testing dataset.\n",
    "df_full, df_test = train_test_split(train_df, test_size=0.2, random_state=42, shuffle=True, stratify=train_df['cancer'])\n",
    "df_train, df_valid = train_test_split(df_full, test_size=0.25, random_state=42, shuffle=True, stratify=df_full['cancer'])"
   ]
  },
  {
   "cell_type": "code",
   "execution_count": 4,
   "id": "eb435b79",
   "metadata": {
    "ExecuteTime": {
     "end_time": "2022-11-01T03:33:17.158038Z",
     "start_time": "2022-11-01T03:33:17.142425Z"
    }
   },
   "outputs": [],
   "source": [
    "# Set 'id' as a index.\n",
    "df_train.set_index(['id'], inplace=True)\n",
    "df_valid.set_index(['id'], inplace=True)\n",
    "df_test.set_index(['id'], inplace=True)"
   ]
  },
  {
   "cell_type": "code",
   "execution_count": 5,
   "id": "e896a7f5",
   "metadata": {
    "ExecuteTime": {
     "end_time": "2022-11-01T03:33:17.298651Z",
     "start_time": "2022-11-01T03:33:17.158038Z"
    }
   },
   "outputs": [],
   "source": [
    "# data preparation - split the data into X and y.\n",
    "y_train = (df_train['cancer']=='yes').astype('int').values\n",
    "y_val = (df_valid['cancer']=='yes').astype('int').values\n",
    "y_test = (df_test['cancer']=='yes').astype('int').values\n",
    "\n",
    "x_train = df_train.drop(['cancer'], axis=1)\n",
    "x_valid = df_valid.drop(['cancer'], axis=1)\n",
    "x_test = df_test.drop(['cancer'], axis=1)"
   ]
  },
  {
   "cell_type": "code",
   "execution_count": 6,
   "id": "60a3b0b5",
   "metadata": {
    "ExecuteTime": {
     "end_time": "2022-11-01T03:33:24.662086Z",
     "start_time": "2022-11-01T03:33:17.298651Z"
    }
   },
   "outputs": [],
   "source": [
    "# Encoding categorical data\n",
    "# Converting data into dictionary format.\n",
    "train_dict = x_train.to_dict(orient='records')\n",
    "valid_dict = x_valid.to_dict(orient='records')\n",
    "test_dict = x_test.to_dict(orient='records')\n",
    "\n",
    "# Create object of dictionary vectorizer\n",
    "dv = DictVectorizer(sparse=False)\n",
    "\n",
    "# data transformation\n",
    "X_train = dv.fit_transform(train_dict)\n",
    "X_val = dv.transform(valid_dict)\n",
    "X_test = dv.transform(test_dict)"
   ]
  },
  {
   "cell_type": "code",
   "execution_count": 7,
   "id": "1f689093",
   "metadata": {
    "ExecuteTime": {
     "end_time": "2022-11-01T03:33:25.224568Z",
     "start_time": "2022-11-01T03:33:24.662086Z"
    }
   },
   "outputs": [
    {
     "ename": "TypeError",
     "evalue": "__init__() got an unexpected keyword argument 'max_iter'",
     "output_type": "error",
     "traceback": [
      "\u001b[1;31m---------------------------------------------------------------------------\u001b[0m",
      "\u001b[1;31mTypeError\u001b[0m                                 Traceback (most recent call last)",
      "Cell \u001b[1;32mIn [7], line 3\u001b[0m\n\u001b[0;32m      1\u001b[0m \u001b[38;5;66;03m# Base Model - RandomForestClassifier\u001b[39;00m\n\u001b[1;32m----> 3\u001b[0m rf_model \u001b[38;5;241m=\u001b[39m \u001b[43mRandomForestClassifier\u001b[49m\u001b[43m(\u001b[49m\u001b[43mmax_iter\u001b[49m\u001b[38;5;241;43m=\u001b[39;49m\u001b[38;5;241;43m1000\u001b[39;49m\u001b[43m,\u001b[49m\u001b[43m \u001b[49m\u001b[43mrandom_state\u001b[49m\u001b[38;5;241;43m=\u001b[39;49m\u001b[38;5;241;43m42\u001b[39;49m\u001b[43m)\u001b[49m\n\u001b[0;32m      4\u001b[0m rf_model\u001b[38;5;241m.\u001b[39mfit(X_train, y_train)\n\u001b[0;32m      5\u001b[0m y_preds \u001b[38;5;241m=\u001b[39m rf_model\u001b[38;5;241m.\u001b[39mpredict_proba(X_val)[:, \u001b[38;5;241m1\u001b[39m]\n",
      "\u001b[1;31mTypeError\u001b[0m: __init__() got an unexpected keyword argument 'max_iter'"
     ]
    }
   ],
   "source": [
    "# Base Model - RandomForestClassifier\n",
    "\n",
    "rf_model = RandomForestClassifier(max_iters=1000, random_state=42)\n",
    "rf_model.fit(X_train, y_train)\n",
    "y_preds = rf_model.predict_proba(X_val)[:, 1]\n",
    "\n",
    "# model evaluation\n",
    "fpr, tpr, thresholds = metrics.roc_curve(y_val, y_preds)\n",
    "score = metrics.auc(fpr, tpr)\n",
    "print(\"Base Model- RandomForestClassifier ROC Score::%.3f\" %score)"
   ]
  },
  {
   "cell_type": "code",
   "execution_count": null,
   "id": "6fc20e38",
   "metadata": {
    "ExecuteTime": {
     "end_time": "2022-11-01T03:33:25.224568Z",
     "start_time": "2022-11-01T03:33:25.224568Z"
    }
   },
   "outputs": [],
   "source": [
    "# Let's find the base model with highest auc score\n",
    "models = {\n",
    "    'lr_clf': LogisticRegression(max_iter=1000, random_state=42),\n",
    "    'cart': DecisionTreeClassifier(random_state=42),\n",
    "    'et_clf': ExtraTreeClassifier(random_state=42),\n",
    "    'gb_clf': GradientBoostingClassifier(random_state=42),\n",
    "    'rf_clf': RandomForestClassifier(random_state=42),\n",
    "    'knn': KNeighborsClassifier(),\n",
    "    'svc': SVC(random_state=42)\n",
    "    }\n",
    "\n",
    "scores = []\n",
    "for name, clf in models.items():\n",
    "    CV = StratifiedKFold(n_splits=4, shuffle=True, random_state=42) \n",
    "    score = cross_val_score(clf, X_train, y_train, cv=CV, n_jobs=-1, scoring='roc_auc')\n",
    "    scores.append((name, np.mean(score)))\n",
    "\n",
    "    print(\"%s - roc score::%.3f\" %(name, np.mean(score)))"
   ]
  },
  {
   "cell_type": "markdown",
   "id": "49d01c92",
   "metadata": {},
   "source": [
    "Model optimization\n",
    "---\n",
    "Logistic Regression algorithm gives high score, Hence selected for further evaluation."
   ]
  },
  {
   "cell_type": "code",
   "execution_count": null,
   "id": "031d99d8",
   "metadata": {
    "ExecuteTime": {
     "end_time": "2022-11-01T03:33:25.224568Z",
     "start_time": "2022-11-01T03:33:25.224568Z"
    }
   },
   "outputs": [],
   "source": [
    "# to find best C vlaues\n",
    "c_vals = [0.01, 0.03, 0.5, 1, 3, 5, 10, 15, 20, 25]\n",
    "for C in c_vals:\n",
    "    model = LogisticRegression(C=C, class_weight='balanced', multi_class='ovr', max_iter=1000, random_state=42, n_jobs=-1)\n",
    "    model.fit(X_train, y_train)\n",
    "    y_preds = model.predict_proba(X_val)[:, 1]\n",
    "    \n",
    "    # model evaluation\n",
    "    fpr, tpr, thresholds = metrics.roc_curve(y_val, y_preds)\n",
    "    score = metrics.auc(fpr, tpr)\n",
    "    print(\"%f:: %.3f\" % (C, score))"
   ]
  },
  {
   "cell_type": "code",
   "execution_count": null,
   "id": "bd27dece",
   "metadata": {
    "ExecuteTime": {
     "end_time": "2022-11-01T03:33:25.224568Z",
     "start_time": "2022-11-01T03:33:25.224568Z"
    }
   },
   "outputs": [],
   "source": [
    "# final model\n",
    "C = 0.5\n",
    "clf = LogisticRegression(C=0.5, class_weight='balanced', multi_class='ovr', max_iter=1000, random_state=42, n_jobs=-1)\n",
    "clf.fit(X_train, y_train)\n",
    "\n",
    "# Training data\n",
    "y_predictions = clf.predict_proba(X_train)[:, 1]\n",
    "fpr, tpr, thresholds = metrics.roc_curve(y_train, y_predictions)\n",
    "score = metrics.auc(fpr, tpr)\n",
    "print(\"Training ROC Score:: %.3f\" % (score))\n",
    "\n",
    "# validation data\n",
    "y_predictions = clf.predict_proba(X_val)[:, 1]\n",
    "fpr, tpr, thresholds = metrics.roc_curve(y_val, y_predictions)\n",
    "score = metrics.auc(fpr, tpr)\n",
    "print(\"Testing ROC Score:: %.3f\" % (score))"
   ]
  }
 ],
 "metadata": {
  "hide_input": false,
  "kernelspec": {
   "display_name": "Python 3 (ipykernel)",
   "language": "python",
   "name": "python3"
  },
  "language_info": {
   "codemirror_mode": {
    "name": "ipython",
    "version": 3
   },
   "file_extension": ".py",
   "mimetype": "text/x-python",
   "name": "python",
   "nbconvert_exporter": "python",
   "pygments_lexer": "ipython3",
   "version": "3.9.7"
  }
 },
 "nbformat": 4,
 "nbformat_minor": 5
}
